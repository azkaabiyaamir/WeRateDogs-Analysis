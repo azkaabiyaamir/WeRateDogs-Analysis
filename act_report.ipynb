{
 "cells": [
  {
   "cell_type": "markdown",
   "metadata": {},
   "source": [
    "## Report: act_report\n",
    "* Create a **250-word-minimum written report** called \"act_report.pdf\" or \"act_report.html\" that communicates the insights and displays the visualization(s) produced from your wrangled data. This is to be framed as an external document, like a blog post or magazine article, for example."
   ]
  },
  {
   "cell_type": "markdown",
   "metadata": {},
   "source": [
    "The twitter account @WeRateDogs is famous for rating pet dogs for different people. The ratings are fun and humorous and the dogs almost always score way more than full marks. @WeRateDogs enjoys a twitter following of more than 4 million. Their tweets are engaging and heartwarming, in other words a safe haven for dog lovers.\n",
    "\n",
    "\n",
    "I spent a lovely day looking deeper into the twitter activity of @WeRateDogs and after some nifty data wrangling and analysis on the twitter activity of this page, I can share some fun and delightful insights with everyone. \n",
    "\n",
    "\n",
    "The first place for most common name for dogs featured by @WeRateDogs is a tie. Dogs with names Lucy and Charlie have been tweeted about 11 times a piece. I wonder if maybe these our @WeRateDogs’ favorite names or is it just a fluke. \n",
    "\n",
    "More interestingly, golden retrievers seem to be the most favored by @WeRateDogs with a whopping total of 158 tweets dedicated to just this one breed. Labrador retrievers come in at second with 108 tweets. Do you see the connection? Well, whether you see it or not, I can easily say that @WeRateDogs seems to prefer retrievers. I wonder what’s the breed of their own pet dog. Let’s use this for some food for thought.\n",
    "\n",
    "\n",
    "The audience of this page, however, seems to favor the Afghan hounds, with a total of 17928 retweets dedicated to them. The Airedales are not much far behind with a total of 16725 retweets to their name. I’m sharing a rather nerdy table for the Top10 most retweeted breeds.\n",
    "\n",
    "<br><br>\n",
    "\n",
    "<img src='files/Top10_Most_Retweeted_Breeds.png'>\n",
    "\n",
    "<br><br>\n",
    "\n",
    "If @WeRateDogs ever reads this blog (highly unlikely) I would recommend more features for these breeds, clearly, they are a hit among their audience.\n",
    "\n",
    "\n",
    "@WeRateDogs is something to be enjoyed when one needs break from their demanding and mundane daily life. This twitter page is truly a gift for the people and I would recommend that everyone opens and enjoys it as much as I have.\n"
   ]
  }
 ],
 "metadata": {
  "kernelspec": {
   "display_name": "Python 3",
   "language": "python",
   "name": "python3"
  },
  "language_info": {
   "codemirror_mode": {
    "name": "ipython",
    "version": 3
   },
   "file_extension": ".py",
   "mimetype": "text/x-python",
   "name": "python",
   "nbconvert_exporter": "python",
   "pygments_lexer": "ipython3",
   "version": "3.6.3"
  }
 },
 "nbformat": 4,
 "nbformat_minor": 2
}
